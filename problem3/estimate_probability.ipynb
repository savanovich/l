{
 "cells": [
  {
   "cell_type": "code",
   "execution_count": 57,
   "metadata": {},
   "outputs": [
    {
     "name": "stdout",
     "output_type": "stream",
     "text": [
      "The autoreload extension is already loaded. To reload it, use:\n",
      "  %reload_ext autoreload\n"
     ]
    }
   ],
   "source": [
    "from matplotlib import pyplot as plt\n",
    "import pandas as pd\n",
    "import seaborn as sns\n",
    "from collections import Counter\n",
    "import numpy as np\n",
    "\n",
    "import simulation\n",
    "\n",
    "%load_ext autoreload\n",
    "%autoreload 2"
   ]
  },
  {
   "cell_type": "markdown",
   "metadata": {},
   "source": [
    "## Simulation Algorithm\n",
    "\n",
    "Rolling dice can be considered as uniform random procces. Every round we should simulate throws of 5 roll dices and then keep throwing next 2 times. Second and third throws should be without scored dices. Total round score is the sum of scored dices or after reformalation it can be calculated as multiplication of number of scored dices on round's number. To simulate the whole game we should repeat round simulation 6 times."
   ]
  },
  {
   "cell_type": "code",
   "execution_count": 30,
   "metadata": {},
   "outputs": [],
   "source": [
    "X = simulation.run(100_000)"
   ]
  },
  {
   "cell_type": "code",
   "execution_count": 31,
   "metadata": {},
   "outputs": [],
   "source": [
    "x = pd.Series(X, name=\"Scores\")"
   ]
  },
  {
   "cell_type": "code",
   "execution_count": 47,
   "metadata": {},
   "outputs": [
    {
     "data": {
      "image/png": "[encoded data removed]",
      "text/plain": [
       "<Figure size 432x288 with 1 Axes>"
      ]
     },
     "metadata": {
      "needs_background": "light"
     },
     "output_type": "display_data"
    }
   ],
   "source": [
    "ax = sns.distplot(x, hist=False, kde=True, kde_kws={'linewidth': 3, 'shade': True});"
   ]
  },
  {
   "cell_type": "markdown",
   "metadata": {},
   "source": [
    "## Estimate probability of bonus"
   ]
  },
  {
   "cell_type": "code",
   "execution_count": 39,
   "metadata": {},
   "outputs": [],
   "source": [
    "counts = x.value_counts()"
   ]
  },
  {
   "cell_type": "code",
   "execution_count": 40,
   "metadata": {},
   "outputs": [
    {
     "data": {
      "text/plain": [
       "43    4026\n",
       "44    3975\n",
       "42    3826\n",
       "45    3787\n",
       "46    3655\n",
       "47    3492\n",
       "48    3463\n",
       "49    3323\n",
       "50    3174\n",
       "51    2942\n",
       "52    2752\n",
       "53    2520\n",
       "54    2267\n",
       "55    2059\n",
       "56    1838\n",
       "57    1606\n",
       "58    1448\n",
       "59    1281\n",
       "60    1134\n",
       "61     887\n",
       "62     806\n",
       "63     628\n",
       "64     555\n",
       "65     482\n",
       "66     359\n",
       "67     291\n",
       "68     246\n",
       "69     211\n",
       "70     161\n",
       "71     129\n",
       "72      92\n",
       "73      76\n",
       "74      62\n",
       "75      38\n",
       "76      28\n",
       "77      27\n",
       "78      12\n",
       "80      12\n",
       "79      11\n",
       "81       4\n",
       "82       3\n",
       "83       2\n",
       "84       1\n",
       "85       1\n",
       "88       1\n",
       "Name: Scores, dtype: int64"
      ]
     },
     "execution_count": 40,
     "metadata": {},
     "output_type": "execute_result"
    }
   ],
   "source": [
    "counts[counts.index >= 42]"
   ]
  },
  {
   "cell_type": "code",
   "execution_count": 41,
   "metadata": {},
   "outputs": [
    {
     "data": {
      "text/plain": [
       "57693"
      ]
     },
     "execution_count": 41,
     "metadata": {},
     "output_type": "execute_result"
    }
   ],
   "source": [
    "counts[counts.index >= 42].sum()"
   ]
  },
  {
   "cell_type": "code",
   "execution_count": 50,
   "metadata": {},
   "outputs": [
    {
     "data": {
      "text/plain": [
       "0.57693"
      ]
     },
     "execution_count": 50,
     "metadata": {},
     "output_type": "execute_result"
    }
   ],
   "source": [
    "p = counts[counts.index >= 42].sum() / 100_000\n",
    "p"
   ]
  },
  {
   "cell_type": "markdown",
   "metadata": {},
   "source": [
    "## How many simulations\n",
    "\n",
    "How many simulations are needed to be `95%` certain that there is an error of at most `0.01` in the estimated probability can be obtained from the margin of error formula:\n",
    "\n",
    "![ME](img/ME.png)"
   ]
  },
  {
   "cell_type": "code",
   "execution_count": 67,
   "metadata": {},
   "outputs": [],
   "source": [
    "ME = 0.01\n",
    "z = 1.96"
   ]
  },
  {
   "cell_type": "code",
   "execution_count": 69,
   "metadata": {},
   "outputs": [
    {
     "data": {
      "text/plain": [
       "10.151937635427043"
      ]
     },
     "execution_count": 69,
     "metadata": {},
     "output_type": "execute_result"
    }
   ],
   "source": [
    "s = np.std(x)\n",
    "s"
   ]
  },
  {
   "cell_type": "code",
   "execution_count": 70,
   "metadata": {},
   "outputs": [
    {
     "data": {
      "text/plain": [
       "3959223.559142299"
      ]
     },
     "execution_count": 70,
     "metadata": {},
     "output_type": "execute_result"
    }
   ],
   "source": [
    "n = ( (z * s / ME))**2\n",
    "n"
   ]
  },
  {
   "cell_type": "code",
   "execution_count": null,
   "metadata": {},
   "outputs": [],
   "source": []
  }
 ],
 "metadata": {
  "kernelspec": {
   "display_name": "Python 3",
   "language": "python",
   "name": "python3"
  },
  "language_info": {
   "codemirror_mode": {
    "name": "ipython",
    "version": 3
   },
   "file_extension": ".py",
   "mimetype": "text/x-python",
   "name": "python",
   "nbconvert_exporter": "python",
   "pygments_lexer": "ipython3",
   "version": "3.6.6"
  }
 },
 "nbformat": 4,
 "nbformat_minor": 2
}
