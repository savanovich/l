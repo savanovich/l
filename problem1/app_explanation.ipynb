{
 "cells": [
  {
   "cell_type": "markdown",
   "metadata": {},
   "source": [
    "\n",
    "![arch](img/arch.jpg)"
   ]
  },
  {
   "cell_type": "markdown",
   "metadata": {},
   "source": [
    "## Tech stack\n",
    "- Python >3.6\n",
    "- Kafka\n",
    "- asyncio\n",
    "- autobahn https://autobahn.readthedocs.io/en/latest/"
   ]
  },
  {
   "cell_type": "markdown",
   "metadata": {},
   "source": [
    "## Rationale\n",
    "\n",
    "Web sockets used to reduce calls to web service. Just one call over HTTP for handshake the connection. Other calls performed via WebSockets, this minimizes calls to service, TCP handshakes and HTTP headers overhead.\n",
    "\n",
    "Autobahn well-known framework to work with WebSockets on both sides client and server. It has a wide range of supported programming languages. Also, it has high performance and fully asynchronous implementation (via asyncio).\n",
    "\n",
    "Kafka can be thought as a сentral bus for a heterogeneous system of microservices.\n",
    "\n",
    "One of the consumers of Kafka is a reporting system (Redshift for example).\n",
    "\n",
    "All components are Open Source projects. Python very fast for prototyping and asyncio with epoll event poll has high performance. "
   ]
  }
 ],
 "metadata": {
  "kernelspec": {
   "display_name": "Python 3",
   "language": "python",
   "name": "python3"
  },
  "language_info": {
   "codemirror_mode": {
    "name": "ipython",
    "version": 3
   },
   "file_extension": ".py",
   "mimetype": "text/x-python",
   "name": "python",
   "nbconvert_exporter": "python",
   "pygments_lexer": "ipython3",
   "version": "3.6.6"
  }
 },
 "nbformat": 4,
 "nbformat_minor": 2
}
