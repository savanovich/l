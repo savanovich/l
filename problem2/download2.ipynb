{
 "cells": [
  {
   "cell_type": "code",
   "execution_count": 55,
   "metadata": {},
   "outputs": [],
   "source": [
    "from selenium import webdriver\n",
    "from selenium.webdriver.firefox.options import Options\n",
    "import re\n",
    "import csv"
   ]
  },
  {
   "cell_type": "code",
   "execution_count": 2,
   "metadata": {},
   "outputs": [],
   "source": [
    "url = \"https://www150.statcan.gc.ca/t1/tbl1/en/tv.action?pid=1710000901\""
   ]
  },
  {
   "cell_type": "code",
   "execution_count": 29,
   "metadata": {},
   "outputs": [],
   "source": [
    "options = Options()\n",
    "options.headless = True\n",
    "\n",
    "driver = webdriver.Firefox(options=options, executable_path=r'/usr/bin/geckodriver')\n",
    "\n",
    "driver.get(url)"
   ]
  },
  {
   "cell_type": "code",
   "execution_count": 60,
   "metadata": {},
   "outputs": [],
   "source": [
    "# Scraping the Table\n",
    "## Headers have a separate XPath so they are scraped separately to the table body.\n",
    "headerlist = []\n",
    "for i in range (1, 7):\n",
    "    elem = driver.find_element_by_xpath('//*[@id=\"1_{}\"]'.format(i)).text\n",
    "    headerlist.append(elem)\n",
    "\n",
    "## Description and Populations can be scraped from the same loop.    \n",
    "rows = []\n",
    "for i in range (2, 16):\n",
    "    title = driver.find_element_by_xpath('/html/body/main/form/div[5]/table/tbody/tr[{}]/th'.format(i)).text\n",
    "    title = re.sub(r\"(\\s\\d){0,1}(\\s\\(map\\))\", \"\", title)\n",
    "    \n",
    "    row = []\n",
    "    for j in range(1, 6):\n",
    "        elem = driver.find_element_by_xpath('/html/body/main/form/div[5]/table/tbody/tr[2]/td[{}]'.format(j)).text\n",
    "        elem = re.sub(r\",\", \"\", elem)\n",
    "        row.append(elem)\n",
    "    \n",
    "    row = [title] + row\n",
    "    \n",
    "    rows.append(row)\n",
    "\n",
    "## Final Table. Headers are appended to the table body.\n",
    "tabledata = [headerlist] + rows    "
   ]
  },
  {
   "cell_type": "code",
   "execution_count": 61,
   "metadata": {},
   "outputs": [],
   "source": [
    "# Outputting CSV data to the same directory of Jupyter notebook\n",
    "with open(\"output.csv\", \"w\") as f:\n",
    "    writer = csv.writer(f)\n",
    "    writer.writerows(tabledata)"
   ]
  }
 ],
 "metadata": {
  "kernelspec": {
   "display_name": "Python 3",
   "language": "python",
   "name": "python3"
  },
  "language_info": {
   "codemirror_mode": {
    "name": "ipython",
    "version": 3
   },
   "file_extension": ".py",
   "mimetype": "text/x-python",
   "name": "python",
   "nbconvert_exporter": "python",
   "pygments_lexer": "ipython3",
   "version": "3.6.6"
  }
 },
 "nbformat": 4,
 "nbformat_minor": 2
}
